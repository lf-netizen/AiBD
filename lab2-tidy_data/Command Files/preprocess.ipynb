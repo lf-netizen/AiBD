{
 "cells": [
  {
   "cell_type": "code",
   "execution_count": 22,
   "metadata": {},
   "outputs": [],
   "source": [
    "import pandas as pd"
   ]
  },
  {
   "cell_type": "markdown",
   "metadata": {},
   "source": [
    "Import data"
   ]
  },
  {
   "cell_type": "code",
   "execution_count": 23,
   "metadata": {},
   "outputs": [],
   "source": [
    "df = pd.read_csv('../Original Data/tb.csv')"
   ]
  },
  {
   "cell_type": "markdown",
   "metadata": {},
   "source": [
    "Replace NaN values with zeros"
   ]
  },
  {
   "cell_type": "code",
   "execution_count": 24,
   "metadata": {},
   "outputs": [],
   "source": [
    "df.fillna(0, inplace=True)"
   ]
  },
  {
   "cell_type": "markdown",
   "metadata": {},
   "source": [
    "Merge age groups 0-5 and 5-14 to be coherent with existing one (0-14), drop appropriate columns. Drop 'unknown' age category."
   ]
  },
  {
   "cell_type": "code",
   "execution_count": 25,
   "metadata": {},
   "outputs": [],
   "source": [
    "df.loc[df.new_sp_m014 == 0, 'new_sp_m014'] += df[df.new_sp_m014 == 0]['new_sp_m04'] + df[df.new_sp_m014 == 0]['new_sp_m514']\n",
    "df.loc[df.new_sp_f014 == 0, 'new_sp_f014'] += df[df.new_sp_f014 == 0]['new_sp_f04'] + df[df.new_sp_f014 == 0]['new_sp_f514']\n",
    "df.drop(columns=['new_sp','new_sp_f04', 'new_sp_f514', 'new_sp_m04', 'new_sp_m514', 'new_sp_fu', 'new_sp_mu'], inplace=True)"
   ]
  },
  {
   "cell_type": "markdown",
   "metadata": {},
   "source": [
    "Rename 'iso2' column to 'country'"
   ]
  },
  {
   "cell_type": "code",
   "execution_count": 26,
   "metadata": {},
   "outputs": [],
   "source": [
    "df.rename(columns={'iso2': 'country'}, inplace=True)"
   ]
  },
  {
   "cell_type": "markdown",
   "metadata": {},
   "source": [
    "Melt to extract age and sex group informations"
   ]
  },
  {
   "cell_type": "code",
   "execution_count": 27,
   "metadata": {},
   "outputs": [],
   "source": [
    "df = df.melt(id_vars =['country', 'year'], value_vars = df.columns[2:])\n",
    "df['variable'] = df.variable.str[7:]\n",
    "\n",
    "df['sex'] = df.variable.str[0]\n",
    "\n",
    "df['age'] = df.variable.str[1:]\n",
    "df['age'] = df.age.apply(lambda x: '65+' if x == '65' else x[:-2] + '-' + x[-2:])\n",
    "\n",
    "df['cases'] = df['value'].astype(int)\n",
    "\n",
    "df.drop(columns=['variable','value'], inplace=True)"
   ]
  },
  {
   "cell_type": "markdown",
   "metadata": {},
   "source": [
    "Export"
   ]
  },
  {
   "cell_type": "code",
   "execution_count": 28,
   "metadata": {},
   "outputs": [],
   "source": [
    "df.to_csv(\"../Analysis Data/tb_preprocessed.csv\", index=False)"
   ]
  }
 ],
 "metadata": {
  "kernelspec": {
   "display_name": "Python 3.9.12 ('base')",
   "language": "python",
   "name": "python3"
  },
  "language_info": {
   "codemirror_mode": {
    "name": "ipython",
    "version": 3
   },
   "file_extension": ".py",
   "mimetype": "text/x-python",
   "name": "python",
   "nbconvert_exporter": "python",
   "pygments_lexer": "ipython3",
   "version": "3.9.12"
  },
  "orig_nbformat": 4,
  "vscode": {
   "interpreter": {
    "hash": "a825f8e8905b8e64233e6384cfa1616d0baa442a3b458fa78e4916d5c671b0d4"
   }
  }
 },
 "nbformat": 4,
 "nbformat_minor": 2
}
